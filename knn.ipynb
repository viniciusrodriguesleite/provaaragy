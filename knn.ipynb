{
  "nbformat": 4,
  "nbformat_minor": 0,
  "metadata": {
    "colab": {
      "name": "knn.ipynb",
      "provenance": []
    },
    "kernelspec": {
      "name": "python3",
      "display_name": "Python 3"
    }
  },
  "cells": [
    {
      "cell_type": "markdown",
      "metadata": {
        "id": "ENjeBd2ptLFI",
        "colab_type": "text"
      },
      "source": [
        "FUNDAMENTAÇÃO BASICA: classifica um dado elemento de acordo com as respectivas classes dos K (  ) vizinhos mais proximos - pertencentes a uma base de treinamentos dada. O algoritmo calcula a distancia do elemento dado para cada elemento da base de treinamento e entao ordernar os elementos da base de treinamento do mais proximo ao de maior distancia. Dos elementos ordenados selecionam-se apenas os k primeiros, que servem de parametros para de classificação.\n",
        "\n",
        "TIPO DE CLASSIFICAÇÃO: baseado em instancia."
      ]
    },
    {
      "cell_type": "code",
      "metadata": {
        "id": "PGJQFWW2jBDc",
        "colab_type": "code",
        "colab": {}
      },
      "source": [
        "\n",
        "import numpy as np\n",
        "from sklearn import neighbors, datasets"
      ],
      "execution_count": 0,
      "outputs": []
    },
    {
      "cell_type": "code",
      "metadata": {
        "id": "tPHt6xUjjDBc",
        "colab_type": "code",
        "colab": {}
      },
      "source": [
        "iris = datasets.load_iris()"
      ],
      "execution_count": 0,
      "outputs": []
    },
    {
      "cell_type": "code",
      "metadata": {
        "id": "BPMXGETdjPFx",
        "colab_type": "code",
        "colab": {}
      },
      "source": [
        "from sklearn.model_selection import train_test_split\n",
        "x_treino, x_teste, y_treino, y_teste = train_test_split(x, y, test_size=0.4, random_state=42)"
      ],
      "execution_count": 0,
      "outputs": []
    },
    {
      "cell_type": "code",
      "metadata": {
        "id": "XeGTtxI3jTQs",
        "colab_type": "code",
        "colab": {
          "base_uri": "https://localhost:8080/",
          "height": 34
        },
        "outputId": "a50cff9d-8060-4622-8d5d-266a719f3093"
      },
      "source": [
        "from sklearn.neighbors import KNeighborsClassifier\n",
        "knn = KNeighborsClassifier(n_neighbors=3, p=2) # definido o K \n",
        "knn.fit(x_treino, y_treino)\n",
        "labels = knn.predict(x_teste) \n",
        "print(len(labels))"
      ],
      "execution_count": 16,
      "outputs": [
        {
          "output_type": "stream",
          "text": [
            "60\n"
          ],
          "name": "stdout"
        }
      ]
    },
    {
      "cell_type": "code",
      "metadata": {
        "id": "5hFSqgT_jYG9",
        "colab_type": "code",
        "colab": {
          "base_uri": "https://localhost:8080/",
          "height": 34
        },
        "outputId": "957e88e5-d3ab-4773-abbc-20c2ae83e321"
      },
      "source": [
        "acuracia = knn.score(x_teste, y_teste)\n",
        "acuracia"
      ],
      "execution_count": 17,
      "outputs": [
        {
          "output_type": "execute_result",
          "data": {
            "text/plain": [
              "0.9833333333333333"
            ]
          },
          "metadata": {
            "tags": []
          },
          "execution_count": 17
        }
      ]
    }
  ]
}